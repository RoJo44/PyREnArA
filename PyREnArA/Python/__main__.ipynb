{
 "cells": [
  {
   "cell_type": "markdown",
   "id": "7b63933b",
   "metadata": {},
   "source": [
    "# PyREnArA"
   ]
  },
  {
   "cell_type": "code",
   "execution_count": 1,
   "id": "b2ab46b6",
   "metadata": {
    "scrolled": false
   },
   "outputs": [
    {
     "name": "stdout",
     "output_type": "stream",
     "text": [
      "Using C:/Program Files/R/R-4.2.2 as new R_HOME variable\n"
     ]
    }
   ],
   "source": [
    "### TITLE: PyREnArA ###\n",
    "\n",
    "### AUTHORS:\n",
    "# Robin John (Institute of Prehistoric Archeology, University of Cologne, Bernhard-Feilchenfeld-Str. 11, 50969 Köln, Germany),\n",
    "# Florian Linsel (Institute of Computer Science, Martin-Luther-Universität Halle-Wittenberg, Von-Seckendorff-Platz 1, 06120 Halle),\n",
    "# Dr. Georg Roth (Institut für Prähistorische Archäologie, Freie Universität Berlin, Fabeckstr. 23-25, 14195 Berlin, Germany),\n",
    "# Dr. Andreas Maier (Institute of Prehistoric Archeology, University of Cologne, Bernhard-Feilchenfeld-Str. 11, 50969 Köln, Germany)\n",
    "\n",
    "\n",
    "\n",
    "# import basic functions\n",
    "from ipynb.fs.full.basic_functions import *\n",
    "# import Python_statistics functions\n",
    "from ipynb.fs.full.Python_statistics import *\n",
    "# import R_statistics functions\n",
    "from ipynb.fs.full.R_statistics import *\n",
    "\n",
    "\n",
    "# enter directory for R (use default directory when installing R)\n",
    "R_HOME = \"C:/Program Files/R/R-4.2.2\"\n",
    "# enter working-directroy\n",
    "directory = \"C:/.../.../.../Gravettian_points_from_Lower_Austria_and_Moravia/\"\n",
    "\n",
    "import_R(R_HOME)"
   ]
  },
  {
   "cell_type": "markdown",
   "id": "063864f3",
   "metadata": {},
   "source": [
    "### Code-intern image processing and metrical investigation"
   ]
  },
  {
   "cell_type": "code",
   "execution_count": 1,
   "id": "30338843",
   "metadata": {
    "scrolled": false
   },
   "outputs": [],
   "source": [
    "# load all images from the directory into the program and reorient them,\n",
    "# store outlines of each artefact within a folder (by default named after the imagename),\n",
    "# conduct metrical investigation (results are saved within the folder directory)\n",
    "# (output name by default: imagename + \"_metrics.csv\")\n",
    "combined_metrics(directory)"
   ]
  },
  {
   "cell_type": "markdown",
   "id": "4c77caf8",
   "metadata": {},
   "source": [
    "### Merge data, FD, filtering, grouping"
   ]
  },
  {
   "cell_type": "code",
   "execution_count": 2,
   "id": "31940cc2",
   "metadata": {},
   "outputs": [],
   "source": [
    "# merge metrical data \n",
    "# (output name by default: \"data_metrics_merged.csv\")\n",
    "merge_metrics_data(directory, directory)\n",
    "\n",
    "# calculate FD for all artefacts (output name by default: \"data_metrics_merged_FD.csv\")\n",
    "FD(directory, directory + 'data_metrics_merged')\n",
    "\n",
    "# merge metrical data (with FD) and metadata \n",
    "# (output name by default: \"data_metrics_merged_metadata.csv\")\n",
    "merge_metrics_and_metadata(directory + 'data_metrics_merged_FD', directory + 'data_metadata', directory)\n",
    "\n",
    "# if necessary, filter data by any parameter \n",
    "# (output name by default: \"data_metrics_merged_metadata_filtered.csv\")\n",
    "filter_data(directory + 'data_metrics_merged_metadata', directory + 'data_filter', directory)\n",
    "\n",
    "# generate grouped csv-datafiles \n",
    "# (output name by default name of group)\n",
    "# set 'group_by' to custom group data set\n",
    "grouped_csvs(directory, directory + 'data_metrics_merged_metadata_filtered', group_by = 'typology')"
   ]
  },
  {
   "cell_type": "markdown",
   "id": "1a8e7b83",
   "metadata": {},
   "source": [
    "### Statistics in Python"
   ]
  },
  {
   "cell_type": "code",
   "execution_count": 3,
   "id": "e06d22c4",
   "metadata": {
    "scrolled": false
   },
   "outputs": [],
   "source": [
    "# create folder to save plots and statistics in \n",
    "python_statistics_folder = create_folder('Python_statistics', directory)\n",
    "\n",
    "# create plots of metrical data ploted against parameter like time within python_statistics folder directory\n",
    "# (saved within Python_statistics folder directory)\n",
    "# set \"parameter = '...'\" to change x-axis in plots\n",
    "metrics_vs_plot(directory + 'data_metrics_merged_metadata_filtered', python_statistics_folder, parameter = 'ka_cal_BP')\n",
    "\n",
    "# descriptive statistics of metrical data (time or site as parameter)\n",
    "# (saved within Python_statistics folder directory)\n",
    "# (output name by default: \"'descriptive_statistics_metrics_' + selected parameter + '.csv'\")\n",
    "# set \"parameter = '...'\" to change grouping of data set\n",
    "descriptive_statistics_metrics(directory + 'data_metrics_merged_metadata_filtered', python_statistics_folder, parameter = 'ka_cal_BP')\n",
    "\n",
    "# observe standard-deviations in metrics as sign of standardisation (time or site as parameter) and create plots\n",
    "# (saved within Python_statistics folder directory)\n",
    "# (output name by default: \"'std_metrics_' + selected parameter + '.csv'\")\n",
    "# set \"parameter = '...'\" to change x-axis in plots\n",
    "standard_deviation(directory + 'data_metrics_merged_metadata_filtered', python_statistics_folder, parameter = 'ka_cal_BP')\n",
    "\n",
    "# parameter specific mean metrics\n",
    "# (saved within Python_statistics folder directory)\n",
    "# (output name by default: \"selected parameter + '_specific_mean_metrics.csv'\")\n",
    "# set \"parameter = '...'\" to change grouping of data set\n",
    "specific_mean_metrics(directory + 'data_metrics_merged_metadata_filtered', python_statistics_folder, parameter = 'ka_cal_BP')\n",
    "\n",
    "# calculate correlation between parameter like time and metrics and test for significance\n",
    "# (saved within Python_statistics folder directory)\n",
    "# (output name by default: \"'correlation_metrics_' + selected parameter + '.csv'\")\n",
    "pearson_correlation(directory + 'data_metrics_merged_metadata_filtered', python_statistics_folder, parameter = 'ka_cal_BP')\n",
    "\n",
    "# create pearson pairplot with all metrical data \n",
    "# (saved within Python_statistics folder directory)\n",
    "pairplot_pearson(directory + 'data_metrics_merged_metadata_filtered', python_statistics_folder)\n",
    "\n",
    "# create dendro-cluster-plot \n",
    "# (saved within Python_statistics folder directory)\n",
    "# by default all metrical data is used, to specify used data set \"features = ['...', '...']\"\n",
    "# by default 'site' is used to label cases, to specify labeling set \"parameter = '...'\"\n",
    "# by default 'ka_cal_BP' is used to sort cases, to specify sorting set \"sorting = '...'\"\n",
    "# to set the index (right hand side of the plot) use \"index = '...'\"\n",
    "dendro_cluster_plot(directory + 'data_metrics_merged_metadata_filtered', python_statistics_folder)\n",
    "\n",
    "# create PCA-plots\n",
    "# (saved within Python_statistics folder directory)\n",
    "# by default all metrical data is used, to specify used data set \"features = ['...', '...']\"\n",
    "# by default 'site' is used to label cases, to specify labeling set \"style = '...'\"\n",
    "# by default 'ka_cal_BP' is used to sort cases, to specify sorting set \"sorting = '...'\"\n",
    "principal_component_analysis(directory + 'data_metrics_merged_metadata', python_statistics_folder, style = 'site')"
   ]
  },
  {
   "cell_type": "markdown",
   "id": "8b8fe782",
   "metadata": {},
   "source": [
    "### Statistics in R"
   ]
  },
  {
   "cell_type": "code",
   "execution_count": 4,
   "id": "5908ea98",
   "metadata": {},
   "outputs": [],
   "source": [
    "# create folder to save plots and statistics in \n",
    "R_statistics_folder = create_folder('R_statistics', directory)\n",
    "\n",
    "# conduct GMM-functions \n",
    "# (saved within a seperate GMM folder within R_statistics folder directory)\n",
    "# set \"parameter = '...'\" to change grouping of data set in meanshape-plot\n",
    "GMM(directory, directory + 'shouldered_point', 'older_younger')\n",
    "\n",
    "# conduct RDA function\n",
    "# (saved within a seperate RDA folder within R_statistics folder directory)\n",
    "RDA = RDA(directory, directory + 'data_metrics_merged_metadata_filtered_GMM_clust_2', 'ka_cal_BP')\n",
    "\n",
    "# conduct MEM function\n",
    "# (saved within a seperate MEM folder within R_statistics folder directory)\n",
    "MEM(directory, directory + 'Python_statistics/' + 'site_specific_mean_metrics_clust_1')"
   ]
  }
 ],
 "metadata": {
  "kernelspec": {
   "display_name": "Python 3 (ipykernel)",
   "language": "python",
   "name": "python3"
  },
  "language_info": {
   "codemirror_mode": {
    "name": "ipython",
    "version": 3
   },
   "file_extension": ".py",
   "mimetype": "text/x-python",
   "name": "python",
   "nbconvert_exporter": "python",
   "pygments_lexer": "ipython3",
   "version": "3.9.15"
  }
 },
 "nbformat": 4,
 "nbformat_minor": 5
}
